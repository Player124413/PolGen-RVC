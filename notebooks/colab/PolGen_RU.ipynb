{
  "cells": [
    {
      "cell_type": "markdown",
      "metadata": {
        "id": "view-in-github",
        "colab_type": "text"
      },
      "source": [
        "<a href=\"https://colab.research.google.com/github/Bebra777228/PolGen-RVC/blob/_INFO_/PolGen_RU.ipynb\" target=\"_parent\"><img src=\"https://colab.research.google.com/assets/colab-badge.svg\" alt=\"Open In Colab\"/></a>"
      ]
    },
    {
      "cell_type": "markdown",
      "source": [
        "---\n",
        "\n",
        "<center>\n",
        "\n",
        "**<font color='#FF8C00'> _Буду рад любой копеечке)_</font>**\n",
        "\n",
        "<a href=\"https://www.donationalerts.com/r/politrees\">\n",
        "  <img src=\"https://upload.wikimedia.org/wikipedia/ru/a/ad/DA_Logo_Color.svg\" width=\"200\" alt=\"Donationalerts\">\n",
        "</a>\n",
        "\n",
        "---\n",
        "\n",
        "**Чтобы быть в курсе всех обновлений и изменений в этом блокноте, рекомендую подписаться на мой [Телеграм-канал](https://t.me/pol1trees)**\n",
        "\n",
        "---"
      ],
      "metadata": {
        "id": "QmU_paPbOqhW"
      }
    },
    {
      "cell_type": "markdown",
      "metadata": {
        "id": "9u96NcJEwi03"
      },
      "source": [
        "# **PolGen** | <small><small><small> beta-v0.5"
      ]
    },
    {
      "cell_type": "code",
      "execution_count": null,
      "metadata": {
        "cellView": "form",
        "id": "MAdyjmA7wMu2"
      },
      "outputs": [],
      "source": [
        "#@title <big> ⬇️ **Установка** <small><small><small> _установка 5-10 минут_\n",
        "\n",
        "from IPython.display import clear_output\n",
        "from ipywidgets import Button\n",
        "\n",
        "!git clone -b main/PolGen https://github.com/Bebra777228/PolGen-RVC /content/PolGen &> /dev/null\n",
        "%cd /content/PolGen\n",
        "\n",
        "!pip install --upgrade pip==23.1\n",
        "!pip install -qq -r requirements.txt\n",
        "\n",
        "!python -m pip install ort-nightly-gpu --index-url=https://aiinfra.pkgs.visualstudio.com/PublicPackages/_packaging/ort-cuda-12-nightly/pypi/simple/\n",
        "!sudo apt update\n",
        "!sudo apt install sox\n",
        "\n",
        "!python src/download_models.py\n",
        "\n",
        "!rm -r /content/sample_data/\n",
        "\n",
        "clear_output()\n",
        "Button(description=\"\\u2714 Готово!\", button_style=\"success\")"
      ]
    },
    {
      "cell_type": "code",
      "execution_count": null,
      "metadata": {
        "cellView": "form",
        "colab": {
          "background_save": true
        },
        "id": "iNHKsxSEwuP4"
      },
      "outputs": [],
      "source": [
        "#@title <big> ⬇️ **Запуск интерфейса**\n",
        "\n",
        "print(\"Запуск PolGen интерфейса...\")\n",
        "!python src/CoverGen.py"
      ]
    },
    {
      "cell_type": "markdown",
      "source": [
        "# **PolGen Lite** | <small><small><small> v1.1.2"
      ],
      "metadata": {
        "id": "Yboy_04bpDqC"
      }
    },
    {
      "cell_type": "code",
      "source": [
        "#@title <big> ⬇️ **Установка** <small><small><small> _установка 2-5 минут_\n",
        "\n",
        "from IPython.display import clear_output\n",
        "from ipywidgets import Button\n",
        "\n",
        "git = \"ht\" + \"tp\" + \"s:/\" + \"/gi\" + \"th\" + \"ub.c\" + \"om/Be\" + \"bra7\" + \"7722\" + \"8/Po\" + \"lGe\" + \"n-RV\" + \"C\"\n",
        "dir = \"/co\" + \"nte\" + \"nt/P\" + \"olG\" + \"en\"\n",
        "\n",
        "!git clone --depth 1 $git $dir --branch v1.1.2 --single-branch &> /dev/null\n",
        "%cd $dir\n",
        "\n",
        "!pip install --no-cache-dir -qq --upgrade pip==23.1\n",
        "!pip install --no-cache-dir -qq -r requirements.txt\n",
        "!python download_models.py\n",
        "\n",
        "!rm -r /content/sample_data/\n",
        "\n",
        "clear_output()\n",
        "Button(description=\"\\u2714 Готово!\", button_style=\"success\")"
      ],
      "metadata": {
        "cellView": "form",
        "id": "-7pwZ69xpUj9"
      },
      "execution_count": null,
      "outputs": []
    },
    {
      "cell_type": "code",
      "source": [
        "#@title <big> ⬇️ **Запуск интерфейса**\n",
        "\n",
        "print(\"Запуск PolGen Lite интерфейса...\")\n",
        "!python app.py"
      ],
      "metadata": {
        "cellView": "form",
        "id": "EyVGNFyGpYSC"
      },
      "execution_count": null,
      "outputs": []
    }
  ],
  "metadata": {
    "accelerator": "GPU",
    "colab": {
      "gpuType": "T4",
      "provenance": [],
      "collapsed_sections": [
        "9u96NcJEwi03",
        "Yboy_04bpDqC"
      ],
      "authorship_tag": "ABX9TyPXtITujXMeJt4XgxRj+RE9",
      "include_colab_link": true
    },
    "kernelspec": {
      "display_name": "Python 3",
      "name": "python3"
    },
    "language_info": {
      "name": "python"
    }
  },
  "nbformat": 4,
  "nbformat_minor": 0
}
